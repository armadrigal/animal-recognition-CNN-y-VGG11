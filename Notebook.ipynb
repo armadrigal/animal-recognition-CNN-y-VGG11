{
 "cells": [
  {
   "cell_type": "code",
   "execution_count": 7,
   "id": "d56ce899",
   "metadata": {},
   "outputs": [],
   "source": [
    "import torch\n",
    "import torch.nn as nn\n",
    "import torchvision.transforms as transforms\n",
    "import torchvision.models as models\n",
    "from torchvision import datasets\n",
    "from torchvision.utils import make_grid\n",
    "import matplotlib.pyplot as plt\n",
    "import pickle"
   ]
  },
  {
   "cell_type": "code",
   "execution_count": 8,
   "id": "e94339bc",
   "metadata": {},
   "outputs": [],
   "source": [
    "class VGG11Conv(nn.Module):\n",
    "    def __init__(self):\n",
    "        super(VGG11Conv, self).__init__()\n",
    "        vgg11 = models.vgg11(pretrained=True)\n",
    "        self.features = vgg11.features\n",
    "\n",
    "    def forward(self, x):\n",
    "        x = self.features(x)\n",
    "        return x"
   ]
  },
  {
   "cell_type": "code",
   "execution_count": 9,
   "id": "f2a4e0bb",
   "metadata": {},
   "outputs": [],
   "source": [
    "test_dir = './data'\n",
    "transform = transforms.Compose([\n",
    "    transforms.Resize((224, 224)),\n",
    "    transforms.ToTensor(),\n",
    "    transforms.Normalize(mean=[0.485, 0.456, 0.406], std=[0.229, 0.224, 0.225])\n",
    "])\n",
    "\n",
    "dataset = datasets.ImageFolder(test_dir, transform=transform)\n",
    "data_loader = torch.utils.data.DataLoader(dataset, batch_size=64, shuffle=True)\n"
   ]
  },
  {
   "cell_type": "code",
   "execution_count": 22,
   "id": "30359c61",
   "metadata": {},
   "outputs": [],
   "source": [
    "def evaluate_vgg11(model, data_loader):\n",
    "\n",
    "    model.eval()\n",
    "    x = []\n",
    "    y = []\n",
    "\n",
    "    with torch.no_grad():\n",
    "        for images, labels in data_loader:\n",
    "            outputs = model(images)\n",
    "            x.append(outputs.data)\n",
    "            y.append(labels)\n",
    "        x = torch.cat(x, dim=0)\n",
    "        y = torch.cat(y, dim=0)\n",
    "\n",
    "    return x, y"
   ]
  },
  {
   "cell_type": "code",
   "execution_count": null,
   "id": "ab7411ba",
   "metadata": {},
   "outputs": [],
   "source": [
    "model = VGG11Conv()\n",
    "x, y = evaluate_vgg11(model, data_loader)\n",
    "with open(\"data_vgg1\", 'wb') as file:\n",
    "    pickle.dump([x,y], file)"
   ]
  },
  {
   "cell_type": "code",
   "execution_count": null,
   "id": "f69715c1",
   "metadata": {},
   "outputs": [],
   "source": []
  }
 ],
 "metadata": {
  "hide_input": false,
  "kernelspec": {
   "display_name": "Python 3 (ipykernel)",
   "language": "python",
   "name": "python3"
  },
  "language_info": {
   "codemirror_mode": {
    "name": "ipython",
    "version": 3
   },
   "file_extension": ".py",
   "mimetype": "text/x-python",
   "name": "python",
   "nbconvert_exporter": "python",
   "pygments_lexer": "ipython3",
   "version": "3.10.6"
  }
 },
 "nbformat": 4,
 "nbformat_minor": 5
}
